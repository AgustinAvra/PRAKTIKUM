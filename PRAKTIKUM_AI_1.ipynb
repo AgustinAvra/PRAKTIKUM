{
  "cells": [
    {
      "cell_type": "markdown",
      "metadata": {
        "id": "view-in-github",
        "colab_type": "text"
      },
      "source": [
        "<a href=\"https://colab.research.google.com/github/AgustinAvra/PRAKTIKUM/blob/main/PRAKTIKUM_AI_1.ipynb\" target=\"_parent\"><img src=\"https://colab.research.google.com/assets/colab-badge.svg\" alt=\"Open In Colab\"/></a>"
      ]
    },
    {
      "cell_type": "code",
      "execution_count": null,
      "metadata": {
        "id": "gUAlBJk1OQjF"
      },
      "outputs": [],
      "source": [
        "#   IMPORT MODULES\n",
        "import pandas as pd  # OLAH DAN ANALISA DATA"
      ]
    },
    {
      "cell_type": "code",
      "execution_count": null,
      "metadata": {
        "id": "1R-688K-OZFt",
        "colab": {
          "base_uri": "https://localhost:8080/",
          "height": 322
        },
        "outputId": "0fb0485c-55dc-4bdc-fe51-ac66c3adc971"
      },
      "outputs": [
        {
          "output_type": "execute_result",
          "data": {
            "text/plain": [
              "   index  Age  Sex  Chest pain type   BP  Cholesterol  FBS over 120  \\\n",
              "0      0   70    1                4  130          322             0   \n",
              "1      1   67    0                3  115          564             0   \n",
              "2      2   57    1                2  124          261             0   \n",
              "3      3   64    1                4  128          263             0   \n",
              "4      4   74    0                2  120          269             0   \n",
              "\n",
              "   EKG results  Max HR  Exercise angina  ST depression  Slope of ST  \\\n",
              "0            2     109                0            2.4            2   \n",
              "1            2     160                0            1.6            2   \n",
              "2            0     141                0            0.3            1   \n",
              "3            0     105                1            0.2            2   \n",
              "4            2     121                1            0.2            1   \n",
              "\n",
              "   Number of vessels fluro  Thallium Heart Disease  \n",
              "0                        3         3      Presence  \n",
              "1                        0         7       Absence  \n",
              "2                        0         7      Presence  \n",
              "3                        1         7       Absence  \n",
              "4                        1         3       Absence  "
            ],
            "text/html": [
              "\n",
              "  <div id=\"df-a1684e60-ed75-4e56-835d-be89637a9239\">\n",
              "    <div class=\"colab-df-container\">\n",
              "      <div>\n",
              "<style scoped>\n",
              "    .dataframe tbody tr th:only-of-type {\n",
              "        vertical-align: middle;\n",
              "    }\n",
              "\n",
              "    .dataframe tbody tr th {\n",
              "        vertical-align: top;\n",
              "    }\n",
              "\n",
              "    .dataframe thead th {\n",
              "        text-align: right;\n",
              "    }\n",
              "</style>\n",
              "<table border=\"1\" class=\"dataframe\">\n",
              "  <thead>\n",
              "    <tr style=\"text-align: right;\">\n",
              "      <th></th>\n",
              "      <th>index</th>\n",
              "      <th>Age</th>\n",
              "      <th>Sex</th>\n",
              "      <th>Chest pain type</th>\n",
              "      <th>BP</th>\n",
              "      <th>Cholesterol</th>\n",
              "      <th>FBS over 120</th>\n",
              "      <th>EKG results</th>\n",
              "      <th>Max HR</th>\n",
              "      <th>Exercise angina</th>\n",
              "      <th>ST depression</th>\n",
              "      <th>Slope of ST</th>\n",
              "      <th>Number of vessels fluro</th>\n",
              "      <th>Thallium</th>\n",
              "      <th>Heart Disease</th>\n",
              "    </tr>\n",
              "  </thead>\n",
              "  <tbody>\n",
              "    <tr>\n",
              "      <th>0</th>\n",
              "      <td>0</td>\n",
              "      <td>70</td>\n",
              "      <td>1</td>\n",
              "      <td>4</td>\n",
              "      <td>130</td>\n",
              "      <td>322</td>\n",
              "      <td>0</td>\n",
              "      <td>2</td>\n",
              "      <td>109</td>\n",
              "      <td>0</td>\n",
              "      <td>2.4</td>\n",
              "      <td>2</td>\n",
              "      <td>3</td>\n",
              "      <td>3</td>\n",
              "      <td>Presence</td>\n",
              "    </tr>\n",
              "    <tr>\n",
              "      <th>1</th>\n",
              "      <td>1</td>\n",
              "      <td>67</td>\n",
              "      <td>0</td>\n",
              "      <td>3</td>\n",
              "      <td>115</td>\n",
              "      <td>564</td>\n",
              "      <td>0</td>\n",
              "      <td>2</td>\n",
              "      <td>160</td>\n",
              "      <td>0</td>\n",
              "      <td>1.6</td>\n",
              "      <td>2</td>\n",
              "      <td>0</td>\n",
              "      <td>7</td>\n",
              "      <td>Absence</td>\n",
              "    </tr>\n",
              "    <tr>\n",
              "      <th>2</th>\n",
              "      <td>2</td>\n",
              "      <td>57</td>\n",
              "      <td>1</td>\n",
              "      <td>2</td>\n",
              "      <td>124</td>\n",
              "      <td>261</td>\n",
              "      <td>0</td>\n",
              "      <td>0</td>\n",
              "      <td>141</td>\n",
              "      <td>0</td>\n",
              "      <td>0.3</td>\n",
              "      <td>1</td>\n",
              "      <td>0</td>\n",
              "      <td>7</td>\n",
              "      <td>Presence</td>\n",
              "    </tr>\n",
              "    <tr>\n",
              "      <th>3</th>\n",
              "      <td>3</td>\n",
              "      <td>64</td>\n",
              "      <td>1</td>\n",
              "      <td>4</td>\n",
              "      <td>128</td>\n",
              "      <td>263</td>\n",
              "      <td>0</td>\n",
              "      <td>0</td>\n",
              "      <td>105</td>\n",
              "      <td>1</td>\n",
              "      <td>0.2</td>\n",
              "      <td>2</td>\n",
              "      <td>1</td>\n",
              "      <td>7</td>\n",
              "      <td>Absence</td>\n",
              "    </tr>\n",
              "    <tr>\n",
              "      <th>4</th>\n",
              "      <td>4</td>\n",
              "      <td>74</td>\n",
              "      <td>0</td>\n",
              "      <td>2</td>\n",
              "      <td>120</td>\n",
              "      <td>269</td>\n",
              "      <td>0</td>\n",
              "      <td>2</td>\n",
              "      <td>121</td>\n",
              "      <td>1</td>\n",
              "      <td>0.2</td>\n",
              "      <td>1</td>\n",
              "      <td>1</td>\n",
              "      <td>3</td>\n",
              "      <td>Absence</td>\n",
              "    </tr>\n",
              "  </tbody>\n",
              "</table>\n",
              "</div>\n",
              "      <button class=\"colab-df-convert\" onclick=\"convertToInteractive('df-a1684e60-ed75-4e56-835d-be89637a9239')\"\n",
              "              title=\"Convert this dataframe to an interactive table.\"\n",
              "              style=\"display:none;\">\n",
              "        \n",
              "  <svg xmlns=\"http://www.w3.org/2000/svg\" height=\"24px\"viewBox=\"0 0 24 24\"\n",
              "       width=\"24px\">\n",
              "    <path d=\"M0 0h24v24H0V0z\" fill=\"none\"/>\n",
              "    <path d=\"M18.56 5.44l.94 2.06.94-2.06 2.06-.94-2.06-.94-.94-2.06-.94 2.06-2.06.94zm-11 1L8.5 8.5l.94-2.06 2.06-.94-2.06-.94L8.5 2.5l-.94 2.06-2.06.94zm10 10l.94 2.06.94-2.06 2.06-.94-2.06-.94-.94-2.06-.94 2.06-2.06.94z\"/><path d=\"M17.41 7.96l-1.37-1.37c-.4-.4-.92-.59-1.43-.59-.52 0-1.04.2-1.43.59L10.3 9.45l-7.72 7.72c-.78.78-.78 2.05 0 2.83L4 21.41c.39.39.9.59 1.41.59.51 0 1.02-.2 1.41-.59l7.78-7.78 2.81-2.81c.8-.78.8-2.07 0-2.86zM5.41 20L4 18.59l7.72-7.72 1.47 1.35L5.41 20z\"/>\n",
              "  </svg>\n",
              "      </button>\n",
              "      \n",
              "  <style>\n",
              "    .colab-df-container {\n",
              "      display:flex;\n",
              "      flex-wrap:wrap;\n",
              "      gap: 12px;\n",
              "    }\n",
              "\n",
              "    .colab-df-convert {\n",
              "      background-color: #E8F0FE;\n",
              "      border: none;\n",
              "      border-radius: 50%;\n",
              "      cursor: pointer;\n",
              "      display: none;\n",
              "      fill: #1967D2;\n",
              "      height: 32px;\n",
              "      padding: 0 0 0 0;\n",
              "      width: 32px;\n",
              "    }\n",
              "\n",
              "    .colab-df-convert:hover {\n",
              "      background-color: #E2EBFA;\n",
              "      box-shadow: 0px 1px 2px rgba(60, 64, 67, 0.3), 0px 1px 3px 1px rgba(60, 64, 67, 0.15);\n",
              "      fill: #174EA6;\n",
              "    }\n",
              "\n",
              "    [theme=dark] .colab-df-convert {\n",
              "      background-color: #3B4455;\n",
              "      fill: #D2E3FC;\n",
              "    }\n",
              "\n",
              "    [theme=dark] .colab-df-convert:hover {\n",
              "      background-color: #434B5C;\n",
              "      box-shadow: 0px 1px 3px 1px rgba(0, 0, 0, 0.15);\n",
              "      filter: drop-shadow(0px 1px 2px rgba(0, 0, 0, 0.3));\n",
              "      fill: #FFFFFF;\n",
              "    }\n",
              "  </style>\n",
              "\n",
              "      <script>\n",
              "        const buttonEl =\n",
              "          document.querySelector('#df-a1684e60-ed75-4e56-835d-be89637a9239 button.colab-df-convert');\n",
              "        buttonEl.style.display =\n",
              "          google.colab.kernel.accessAllowed ? 'block' : 'none';\n",
              "\n",
              "        async function convertToInteractive(key) {\n",
              "          const element = document.querySelector('#df-a1684e60-ed75-4e56-835d-be89637a9239');\n",
              "          const dataTable =\n",
              "            await google.colab.kernel.invokeFunction('convertToInteractive',\n",
              "                                                     [key], {});\n",
              "          if (!dataTable) return;\n",
              "\n",
              "          const docLinkHtml = 'Like what you see? Visit the ' +\n",
              "            '<a target=\"_blank\" href=https://colab.research.google.com/notebooks/data_table.ipynb>data table notebook</a>'\n",
              "            + ' to learn more about interactive tables.';\n",
              "          element.innerHTML = '';\n",
              "          dataTable['output_type'] = 'display_data';\n",
              "          await google.colab.output.renderOutput(dataTable, element);\n",
              "          const docLink = document.createElement('div');\n",
              "          docLink.innerHTML = docLinkHtml;\n",
              "          element.appendChild(docLink);\n",
              "        }\n",
              "      </script>\n",
              "    </div>\n",
              "  </div>\n",
              "  "
            ]
          },
          "metadata": {},
          "execution_count": 257
        }
      ],
      "source": [
        "# LOAD DATASET\n",
        "Agustin_df = pd.read_csv('/content/Heart_Disease_Prediction.csv') # MEMUAT FILE CSV SBG DATA FRAME\n",
        "Agustin_df.head() # TAMPILKA 5 BARIS PERTAMA"
      ]
    },
    {
      "cell_type": "code",
      "execution_count": null,
      "metadata": {
        "colab": {
          "base_uri": "https://localhost:8080/",
          "height": 302
        },
        "id": "FP7ZTVdOOqsW",
        "outputId": "05d3f172-13c4-491c-f844-2f7e167f0b41"
      },
      "outputs": [
        {
          "output_type": "execute_result",
          "data": {
            "text/plain": [
              "   index  Age  Sex  Chest pain type   BP  Cholesterol  FBS over 120  \\\n",
              "0      0   70    1                4  130          322             0   \n",
              "1      1   67    0                3  115          564             0   \n",
              "2      2   57    1                2  124          261             0   \n",
              "3      3   64    1                4  128          263             0   \n",
              "4      4   74    0                2  120          269             0   \n",
              "\n",
              "   EKG results  Max HR  Exercise angina  ST depression  Slope of ST  \\\n",
              "0            2     109                0            2.4            2   \n",
              "1            2     160                0            1.6            2   \n",
              "2            0     141                0            0.3            1   \n",
              "3            0     105                1            0.2            2   \n",
              "4            2     121                1            0.2            1   \n",
              "\n",
              "   Number of vessels fluro  Thallium  \n",
              "0                        3         3  \n",
              "1                        0         7  \n",
              "2                        0         7  \n",
              "3                        1         7  \n",
              "4                        1         3  "
            ],
            "text/html": [
              "\n",
              "  <div id=\"df-ac32f253-2fde-4f97-8aed-19c628db1304\">\n",
              "    <div class=\"colab-df-container\">\n",
              "      <div>\n",
              "<style scoped>\n",
              "    .dataframe tbody tr th:only-of-type {\n",
              "        vertical-align: middle;\n",
              "    }\n",
              "\n",
              "    .dataframe tbody tr th {\n",
              "        vertical-align: top;\n",
              "    }\n",
              "\n",
              "    .dataframe thead th {\n",
              "        text-align: right;\n",
              "    }\n",
              "</style>\n",
              "<table border=\"1\" class=\"dataframe\">\n",
              "  <thead>\n",
              "    <tr style=\"text-align: right;\">\n",
              "      <th></th>\n",
              "      <th>index</th>\n",
              "      <th>Age</th>\n",
              "      <th>Sex</th>\n",
              "      <th>Chest pain type</th>\n",
              "      <th>BP</th>\n",
              "      <th>Cholesterol</th>\n",
              "      <th>FBS over 120</th>\n",
              "      <th>EKG results</th>\n",
              "      <th>Max HR</th>\n",
              "      <th>Exercise angina</th>\n",
              "      <th>ST depression</th>\n",
              "      <th>Slope of ST</th>\n",
              "      <th>Number of vessels fluro</th>\n",
              "      <th>Thallium</th>\n",
              "    </tr>\n",
              "  </thead>\n",
              "  <tbody>\n",
              "    <tr>\n",
              "      <th>0</th>\n",
              "      <td>0</td>\n",
              "      <td>70</td>\n",
              "      <td>1</td>\n",
              "      <td>4</td>\n",
              "      <td>130</td>\n",
              "      <td>322</td>\n",
              "      <td>0</td>\n",
              "      <td>2</td>\n",
              "      <td>109</td>\n",
              "      <td>0</td>\n",
              "      <td>2.4</td>\n",
              "      <td>2</td>\n",
              "      <td>3</td>\n",
              "      <td>3</td>\n",
              "    </tr>\n",
              "    <tr>\n",
              "      <th>1</th>\n",
              "      <td>1</td>\n",
              "      <td>67</td>\n",
              "      <td>0</td>\n",
              "      <td>3</td>\n",
              "      <td>115</td>\n",
              "      <td>564</td>\n",
              "      <td>0</td>\n",
              "      <td>2</td>\n",
              "      <td>160</td>\n",
              "      <td>0</td>\n",
              "      <td>1.6</td>\n",
              "      <td>2</td>\n",
              "      <td>0</td>\n",
              "      <td>7</td>\n",
              "    </tr>\n",
              "    <tr>\n",
              "      <th>2</th>\n",
              "      <td>2</td>\n",
              "      <td>57</td>\n",
              "      <td>1</td>\n",
              "      <td>2</td>\n",
              "      <td>124</td>\n",
              "      <td>261</td>\n",
              "      <td>0</td>\n",
              "      <td>0</td>\n",
              "      <td>141</td>\n",
              "      <td>0</td>\n",
              "      <td>0.3</td>\n",
              "      <td>1</td>\n",
              "      <td>0</td>\n",
              "      <td>7</td>\n",
              "    </tr>\n",
              "    <tr>\n",
              "      <th>3</th>\n",
              "      <td>3</td>\n",
              "      <td>64</td>\n",
              "      <td>1</td>\n",
              "      <td>4</td>\n",
              "      <td>128</td>\n",
              "      <td>263</td>\n",
              "      <td>0</td>\n",
              "      <td>0</td>\n",
              "      <td>105</td>\n",
              "      <td>1</td>\n",
              "      <td>0.2</td>\n",
              "      <td>2</td>\n",
              "      <td>1</td>\n",
              "      <td>7</td>\n",
              "    </tr>\n",
              "    <tr>\n",
              "      <th>4</th>\n",
              "      <td>4</td>\n",
              "      <td>74</td>\n",
              "      <td>0</td>\n",
              "      <td>2</td>\n",
              "      <td>120</td>\n",
              "      <td>269</td>\n",
              "      <td>0</td>\n",
              "      <td>2</td>\n",
              "      <td>121</td>\n",
              "      <td>1</td>\n",
              "      <td>0.2</td>\n",
              "      <td>1</td>\n",
              "      <td>1</td>\n",
              "      <td>3</td>\n",
              "    </tr>\n",
              "  </tbody>\n",
              "</table>\n",
              "</div>\n",
              "      <button class=\"colab-df-convert\" onclick=\"convertToInteractive('df-ac32f253-2fde-4f97-8aed-19c628db1304')\"\n",
              "              title=\"Convert this dataframe to an interactive table.\"\n",
              "              style=\"display:none;\">\n",
              "        \n",
              "  <svg xmlns=\"http://www.w3.org/2000/svg\" height=\"24px\"viewBox=\"0 0 24 24\"\n",
              "       width=\"24px\">\n",
              "    <path d=\"M0 0h24v24H0V0z\" fill=\"none\"/>\n",
              "    <path d=\"M18.56 5.44l.94 2.06.94-2.06 2.06-.94-2.06-.94-.94-2.06-.94 2.06-2.06.94zm-11 1L8.5 8.5l.94-2.06 2.06-.94-2.06-.94L8.5 2.5l-.94 2.06-2.06.94zm10 10l.94 2.06.94-2.06 2.06-.94-2.06-.94-.94-2.06-.94 2.06-2.06.94z\"/><path d=\"M17.41 7.96l-1.37-1.37c-.4-.4-.92-.59-1.43-.59-.52 0-1.04.2-1.43.59L10.3 9.45l-7.72 7.72c-.78.78-.78 2.05 0 2.83L4 21.41c.39.39.9.59 1.41.59.51 0 1.02-.2 1.41-.59l7.78-7.78 2.81-2.81c.8-.78.8-2.07 0-2.86zM5.41 20L4 18.59l7.72-7.72 1.47 1.35L5.41 20z\"/>\n",
              "  </svg>\n",
              "      </button>\n",
              "      \n",
              "  <style>\n",
              "    .colab-df-container {\n",
              "      display:flex;\n",
              "      flex-wrap:wrap;\n",
              "      gap: 12px;\n",
              "    }\n",
              "\n",
              "    .colab-df-convert {\n",
              "      background-color: #E8F0FE;\n",
              "      border: none;\n",
              "      border-radius: 50%;\n",
              "      cursor: pointer;\n",
              "      display: none;\n",
              "      fill: #1967D2;\n",
              "      height: 32px;\n",
              "      padding: 0 0 0 0;\n",
              "      width: 32px;\n",
              "    }\n",
              "\n",
              "    .colab-df-convert:hover {\n",
              "      background-color: #E2EBFA;\n",
              "      box-shadow: 0px 1px 2px rgba(60, 64, 67, 0.3), 0px 1px 3px 1px rgba(60, 64, 67, 0.15);\n",
              "      fill: #174EA6;\n",
              "    }\n",
              "\n",
              "    [theme=dark] .colab-df-convert {\n",
              "      background-color: #3B4455;\n",
              "      fill: #D2E3FC;\n",
              "    }\n",
              "\n",
              "    [theme=dark] .colab-df-convert:hover {\n",
              "      background-color: #434B5C;\n",
              "      box-shadow: 0px 1px 3px 1px rgba(0, 0, 0, 0.15);\n",
              "      filter: drop-shadow(0px 1px 2px rgba(0, 0, 0, 0.3));\n",
              "      fill: #FFFFFF;\n",
              "    }\n",
              "  </style>\n",
              "\n",
              "      <script>\n",
              "        const buttonEl =\n",
              "          document.querySelector('#df-ac32f253-2fde-4f97-8aed-19c628db1304 button.colab-df-convert');\n",
              "        buttonEl.style.display =\n",
              "          google.colab.kernel.accessAllowed ? 'block' : 'none';\n",
              "\n",
              "        async function convertToInteractive(key) {\n",
              "          const element = document.querySelector('#df-ac32f253-2fde-4f97-8aed-19c628db1304');\n",
              "          const dataTable =\n",
              "            await google.colab.kernel.invokeFunction('convertToInteractive',\n",
              "                                                     [key], {});\n",
              "          if (!dataTable) return;\n",
              "\n",
              "          const docLinkHtml = 'Like what you see? Visit the ' +\n",
              "            '<a target=\"_blank\" href=https://colab.research.google.com/notebooks/data_table.ipynb>data table notebook</a>'\n",
              "            + ' to learn more about interactive tables.';\n",
              "          element.innerHTML = '';\n",
              "          dataTable['output_type'] = 'display_data';\n",
              "          await google.colab.output.renderOutput(dataTable, element);\n",
              "          const docLink = document.createElement('div');\n",
              "          docLink.innerHTML = docLinkHtml;\n",
              "          element.appendChild(docLink);\n",
              "        }\n",
              "      </script>\n",
              "    </div>\n",
              "  </div>\n",
              "  "
            ]
          },
          "metadata": {},
          "execution_count": 258
        }
      ],
      "source": [
        "# DROP COLUMN ID\n",
        "# \n",
        "Agustin_df.drop(columns=['Heart Disease'], inplace=True) #MENGHAPUS KOLOM BERNAMA \"ID\"\n",
        "Agustin_df.head() # TAMPILKAN BARIS 5 PERTAMA"
      ]
    },
    {
      "cell_type": "markdown",
      "source": [
        "# New Section"
      ],
      "metadata": {
        "id": "rqV9pnWcgNAk"
      }
    },
    {
      "cell_type": "code",
      "execution_count": null,
      "metadata": {
        "id": "p8SzIcPkPmQ8",
        "colab": {
          "base_uri": "https://localhost:8080/"
        },
        "outputId": "04c79882-6672-4127-9839-a9e2b656e4a5"
      },
      "outputs": [
        {
          "output_type": "execute_result",
          "data": {
            "text/plain": [
              "(270, 14)"
            ]
          },
          "metadata": {},
          "execution_count": 259
        }
      ],
      "source": [
        "# IDENTIFY THE SHAPE OF THE DATASET\n",
        "Agustin_df.shape #BENTUK/DIMENSI DATASET ( BARIS,KOLOM)"
      ]
    },
    {
      "cell_type": "code",
      "execution_count": null,
      "metadata": {
        "id": "wJMt5PTBPshN",
        "colab": {
          "base_uri": "https://localhost:8080/"
        },
        "outputId": "c42af64e-570a-4be3-a92f-bb1f39298160"
      },
      "outputs": [
        {
          "output_type": "execute_result",
          "data": {
            "text/plain": [
              "Index(['index', 'Age', 'Sex', 'Chest pain type', 'BP', 'Cholesterol',\n",
              "       'FBS over 120', 'EKG results', 'Max HR', 'Exercise angina',\n",
              "       'ST depression', 'Slope of ST', 'Number of vessels fluro', 'Thallium'],\n",
              "      dtype='object')"
            ]
          },
          "metadata": {},
          "execution_count": 260
        }
      ],
      "source": [
        "# GET THE LIST OF COLUMN\n",
        "Agustin_df.columns # DAFTAR NAMA KOLOM"
      ]
    },
    {
      "cell_type": "code",
      "execution_count": null,
      "metadata": {
        "id": "LTL6E385P2F_",
        "colab": {
          "base_uri": "https://localhost:8080/"
        },
        "outputId": "912825c1-8cfa-4de7-e516-5e7a3cfe9500"
      },
      "outputs": [
        {
          "output_type": "execute_result",
          "data": {
            "text/plain": [
              "index                        int64\n",
              "Age                          int64\n",
              "Sex                          int64\n",
              "Chest pain type              int64\n",
              "BP                           int64\n",
              "Cholesterol                  int64\n",
              "FBS over 120                 int64\n",
              "EKG results                  int64\n",
              "Max HR                       int64\n",
              "Exercise angina              int64\n",
              "ST depression              float64\n",
              "Slope of ST                  int64\n",
              "Number of vessels fluro      int64\n",
              "Thallium                     int64\n",
              "dtype: object"
            ]
          },
          "metadata": {},
          "execution_count": 261
        }
      ],
      "source": [
        "# IDENTIFY DATA TYPES FOR EACH COLUMN\n",
        "Agustin_df.dtypes # TIPE DATA UTJ SETIAP KOLOM"
      ]
    },
    {
      "cell_type": "code",
      "execution_count": null,
      "metadata": {
        "id": "kLxFtrbyP6aj",
        "colab": {
          "base_uri": "https://localhost:8080/"
        },
        "outputId": "e791b766-10c9-4438-e2dc-4260e367ae1e"
      },
      "outputs": [
        {
          "output_type": "stream",
          "name": "stdout",
          "text": [
            "<class 'pandas.core.frame.DataFrame'>\n",
            "RangeIndex: 270 entries, 0 to 269\n",
            "Data columns (total 14 columns):\n",
            " #   Column                   Non-Null Count  Dtype  \n",
            "---  ------                   --------------  -----  \n",
            " 0   index                    270 non-null    int64  \n",
            " 1   Age                      270 non-null    int64  \n",
            " 2   Sex                      270 non-null    int64  \n",
            " 3   Chest pain type          270 non-null    int64  \n",
            " 4   BP                       270 non-null    int64  \n",
            " 5   Cholesterol              270 non-null    int64  \n",
            " 6   FBS over 120             270 non-null    int64  \n",
            " 7   EKG results              270 non-null    int64  \n",
            " 8   Max HR                   270 non-null    int64  \n",
            " 9   Exercise angina          270 non-null    int64  \n",
            " 10  ST depression            270 non-null    float64\n",
            " 11  Slope of ST              270 non-null    int64  \n",
            " 12  Number of vessels fluro  270 non-null    int64  \n",
            " 13  Thallium                 270 non-null    int64  \n",
            "dtypes: float64(1), int64(13)\n",
            "memory usage: 29.7 KB\n"
          ]
        }
      ],
      "source": [
        "#  GET BASSIC DATASET INFORMATION\n",
        "Agustin_df.info() # INFORMASI DATASET"
      ]
    },
    {
      "cell_type": "code",
      "source": [
        "# IDENTIFY MISSING VALUES\n",
        "Agustin_df.isna().values.any() # mendeteksi keberadaan nilai kosong"
      ],
      "metadata": {
        "colab": {
          "base_uri": "https://localhost:8080/"
        },
        "id": "EIQEyFEjEmY8",
        "outputId": "29707162-a7e1-4202-864a-be92b248431d"
      },
      "execution_count": null,
      "outputs": [
        {
          "output_type": "execute_result",
          "data": {
            "text/plain": [
              "False"
            ]
          },
          "metadata": {},
          "execution_count": 263
        }
      ]
    },
    {
      "cell_type": "code",
      "execution_count": null,
      "metadata": {
        "id": "qzvFOhtrQANB",
        "colab": {
          "base_uri": "https://localhost:8080/",
          "height": 145
        },
        "outputId": "6808af4a-3670-4880-8547-8c28f1e5fd0f"
      },
      "outputs": [
        {
          "output_type": "execute_result",
          "data": {
            "text/plain": [
              "Empty DataFrame\n",
              "Columns: [index, Age, Sex, Chest pain type, BP, Cholesterol, FBS over 120, EKG results, Max HR, Exercise angina, ST depression, Slope of ST, Number of vessels fluro, Thallium]\n",
              "Index: []"
            ],
            "text/html": [
              "\n",
              "  <div id=\"df-fc1e76df-8284-423f-8187-4f10e3bc4b54\">\n",
              "    <div class=\"colab-df-container\">\n",
              "      <div>\n",
              "<style scoped>\n",
              "    .dataframe tbody tr th:only-of-type {\n",
              "        vertical-align: middle;\n",
              "    }\n",
              "\n",
              "    .dataframe tbody tr th {\n",
              "        vertical-align: top;\n",
              "    }\n",
              "\n",
              "    .dataframe thead th {\n",
              "        text-align: right;\n",
              "    }\n",
              "</style>\n",
              "<table border=\"1\" class=\"dataframe\">\n",
              "  <thead>\n",
              "    <tr style=\"text-align: right;\">\n",
              "      <th></th>\n",
              "      <th>index</th>\n",
              "      <th>Age</th>\n",
              "      <th>Sex</th>\n",
              "      <th>Chest pain type</th>\n",
              "      <th>BP</th>\n",
              "      <th>Cholesterol</th>\n",
              "      <th>FBS over 120</th>\n",
              "      <th>EKG results</th>\n",
              "      <th>Max HR</th>\n",
              "      <th>Exercise angina</th>\n",
              "      <th>ST depression</th>\n",
              "      <th>Slope of ST</th>\n",
              "      <th>Number of vessels fluro</th>\n",
              "      <th>Thallium</th>\n",
              "    </tr>\n",
              "  </thead>\n",
              "  <tbody>\n",
              "  </tbody>\n",
              "</table>\n",
              "</div>\n",
              "      <button class=\"colab-df-convert\" onclick=\"convertToInteractive('df-fc1e76df-8284-423f-8187-4f10e3bc4b54')\"\n",
              "              title=\"Convert this dataframe to an interactive table.\"\n",
              "              style=\"display:none;\">\n",
              "        \n",
              "  <svg xmlns=\"http://www.w3.org/2000/svg\" height=\"24px\"viewBox=\"0 0 24 24\"\n",
              "       width=\"24px\">\n",
              "    <path d=\"M0 0h24v24H0V0z\" fill=\"none\"/>\n",
              "    <path d=\"M18.56 5.44l.94 2.06.94-2.06 2.06-.94-2.06-.94-.94-2.06-.94 2.06-2.06.94zm-11 1L8.5 8.5l.94-2.06 2.06-.94-2.06-.94L8.5 2.5l-.94 2.06-2.06.94zm10 10l.94 2.06.94-2.06 2.06-.94-2.06-.94-.94-2.06-.94 2.06-2.06.94z\"/><path d=\"M17.41 7.96l-1.37-1.37c-.4-.4-.92-.59-1.43-.59-.52 0-1.04.2-1.43.59L10.3 9.45l-7.72 7.72c-.78.78-.78 2.05 0 2.83L4 21.41c.39.39.9.59 1.41.59.51 0 1.02-.2 1.41-.59l7.78-7.78 2.81-2.81c.8-.78.8-2.07 0-2.86zM5.41 20L4 18.59l7.72-7.72 1.47 1.35L5.41 20z\"/>\n",
              "  </svg>\n",
              "      </button>\n",
              "      \n",
              "  <style>\n",
              "    .colab-df-container {\n",
              "      display:flex;\n",
              "      flex-wrap:wrap;\n",
              "      gap: 12px;\n",
              "    }\n",
              "\n",
              "    .colab-df-convert {\n",
              "      background-color: #E8F0FE;\n",
              "      border: none;\n",
              "      border-radius: 50%;\n",
              "      cursor: pointer;\n",
              "      display: none;\n",
              "      fill: #1967D2;\n",
              "      height: 32px;\n",
              "      padding: 0 0 0 0;\n",
              "      width: 32px;\n",
              "    }\n",
              "\n",
              "    .colab-df-convert:hover {\n",
              "      background-color: #E2EBFA;\n",
              "      box-shadow: 0px 1px 2px rgba(60, 64, 67, 0.3), 0px 1px 3px 1px rgba(60, 64, 67, 0.15);\n",
              "      fill: #174EA6;\n",
              "    }\n",
              "\n",
              "    [theme=dark] .colab-df-convert {\n",
              "      background-color: #3B4455;\n",
              "      fill: #D2E3FC;\n",
              "    }\n",
              "\n",
              "    [theme=dark] .colab-df-convert:hover {\n",
              "      background-color: #434B5C;\n",
              "      box-shadow: 0px 1px 3px 1px rgba(0, 0, 0, 0.15);\n",
              "      filter: drop-shadow(0px 1px 2px rgba(0, 0, 0, 0.3));\n",
              "      fill: #FFFFFF;\n",
              "    }\n",
              "  </style>\n",
              "\n",
              "      <script>\n",
              "        const buttonEl =\n",
              "          document.querySelector('#df-fc1e76df-8284-423f-8187-4f10e3bc4b54 button.colab-df-convert');\n",
              "        buttonEl.style.display =\n",
              "          google.colab.kernel.accessAllowed ? 'block' : 'none';\n",
              "\n",
              "        async function convertToInteractive(key) {\n",
              "          const element = document.querySelector('#df-fc1e76df-8284-423f-8187-4f10e3bc4b54');\n",
              "          const dataTable =\n",
              "            await google.colab.kernel.invokeFunction('convertToInteractive',\n",
              "                                                     [key], {});\n",
              "          if (!dataTable) return;\n",
              "\n",
              "          const docLinkHtml = 'Like what you see? Visit the ' +\n",
              "            '<a target=\"_blank\" href=https://colab.research.google.com/notebooks/data_table.ipynb>data table notebook</a>'\n",
              "            + ' to learn more about interactive tables.';\n",
              "          element.innerHTML = '';\n",
              "          dataTable['output_type'] = 'display_data';\n",
              "          await google.colab.output.renderOutput(dataTable, element);\n",
              "          const docLink = document.createElement('div');\n",
              "          docLink.innerHTML = docLinkHtml;\n",
              "          element.appendChild(docLink);\n",
              "        }\n",
              "      </script>\n",
              "    </div>\n",
              "  </div>\n",
              "  "
            ]
          },
          "metadata": {},
          "execution_count": 264
        }
      ],
      "source": [
        "#IDENTIFY DUPLICATE ENTRIES/ ROW\n",
        "# Agustin_df[Agustin_df.duplicated(keep=false)] # TAMPILKAN SELURUH BARIS DGN DUPLIKASI\n",
        "Agustin_df[Agustin_df.duplicated()] # TAMPILKAN HANYA BARIS DUPLIKASI SEKUNDER"
      ]
    },
    {
      "cell_type": "code",
      "execution_count": null,
      "metadata": {
        "id": "txa1IWWCQYPu",
        "colab": {
          "base_uri": "https://localhost:8080/"
        },
        "outputId": "3d3091f5-3e0f-48ea-96d1-3988124079ca"
      },
      "outputs": [
        {
          "output_type": "execute_result",
          "data": {
            "text/plain": [
              "<bound method IndexOpsMixin.value_counts of 0      False\n",
              "1      False\n",
              "2      False\n",
              "3      False\n",
              "4      False\n",
              "       ...  \n",
              "265    False\n",
              "266    False\n",
              "267    False\n",
              "268    False\n",
              "269    False\n",
              "Length: 270, dtype: bool>"
            ]
          },
          "metadata": {},
          "execution_count": 265
        }
      ],
      "source": [
        "Agustin_df.duplicated().value_counts # HITUNG JUMLAH DUPLIKASI"
      ]
    },
    {
      "cell_type": "code",
      "execution_count": null,
      "metadata": {
        "id": "elOKlrUsQjuW",
        "colab": {
          "base_uri": "https://localhost:8080/"
        },
        "outputId": "8b458a4f-1332-4cc1-ee0f-abb3a817dee4"
      },
      "outputs": [
        {
          "output_type": "execute_result",
          "data": {
            "text/plain": [
              "(270, 14)"
            ]
          },
          "metadata": {},
          "execution_count": 266
        }
      ],
      "source": [
        "# DROP DUPLICATE ENTRIES/ROW\n",
        "Agustin_df.drop_duplicates(inplace= False) #MENGHAPUS DUPLIKAI DATA \n",
        "Agustin_df.shape #MELIHAT DIMENSI DATA"
      ]
    },
    {
      "cell_type": "code",
      "execution_count": null,
      "metadata": {
        "id": "3465cdchQ3Kf",
        "colab": {
          "base_uri": "https://localhost:8080/",
          "height": 399
        },
        "outputId": "7f75fee4-637c-4cf4-d8be-e331d158f6ca"
      },
      "outputs": [
        {
          "output_type": "execute_result",
          "data": {
            "text/plain": [
              "            index         Age         Sex  Chest pain type          BP  \\\n",
              "count  270.000000  270.000000  270.000000       270.000000  270.000000   \n",
              "mean   134.500000   54.433333    0.677778         3.174074  131.344444   \n",
              "std     78.086491    9.109067    0.468195         0.950090   17.861608   \n",
              "min      0.000000   29.000000    0.000000         1.000000   94.000000   \n",
              "25%     67.250000   48.000000    0.000000         3.000000  120.000000   \n",
              "50%    134.500000   55.000000    1.000000         3.000000  130.000000   \n",
              "75%    201.750000   61.000000    1.000000         4.000000  140.000000   \n",
              "max    269.000000   77.000000    1.000000         4.000000  200.000000   \n",
              "\n",
              "       Cholesterol  FBS over 120  EKG results      Max HR  Exercise angina  \\\n",
              "count   270.000000    270.000000   270.000000  270.000000       270.000000   \n",
              "mean    249.659259      0.148148     1.022222  149.677778         0.329630   \n",
              "std      51.686237      0.355906     0.997891   23.165717         0.470952   \n",
              "min     126.000000      0.000000     0.000000   71.000000         0.000000   \n",
              "25%     213.000000      0.000000     0.000000  133.000000         0.000000   \n",
              "50%     245.000000      0.000000     2.000000  153.500000         0.000000   \n",
              "75%     280.000000      0.000000     2.000000  166.000000         1.000000   \n",
              "max     564.000000      1.000000     2.000000  202.000000         1.000000   \n",
              "\n",
              "       ST depression  Slope of ST  Number of vessels fluro    Thallium  \n",
              "count      270.00000   270.000000               270.000000  270.000000  \n",
              "mean         1.05000     1.585185                 0.670370    4.696296  \n",
              "std          1.14521     0.614390                 0.943896    1.940659  \n",
              "min          0.00000     1.000000                 0.000000    3.000000  \n",
              "25%          0.00000     1.000000                 0.000000    3.000000  \n",
              "50%          0.80000     2.000000                 0.000000    3.000000  \n",
              "75%          1.60000     2.000000                 1.000000    7.000000  \n",
              "max          6.20000     3.000000                 3.000000    7.000000  "
            ],
            "text/html": [
              "\n",
              "  <div id=\"df-96fb80f9-245f-4aff-a5f8-1800d29b29ea\">\n",
              "    <div class=\"colab-df-container\">\n",
              "      <div>\n",
              "<style scoped>\n",
              "    .dataframe tbody tr th:only-of-type {\n",
              "        vertical-align: middle;\n",
              "    }\n",
              "\n",
              "    .dataframe tbody tr th {\n",
              "        vertical-align: top;\n",
              "    }\n",
              "\n",
              "    .dataframe thead th {\n",
              "        text-align: right;\n",
              "    }\n",
              "</style>\n",
              "<table border=\"1\" class=\"dataframe\">\n",
              "  <thead>\n",
              "    <tr style=\"text-align: right;\">\n",
              "      <th></th>\n",
              "      <th>index</th>\n",
              "      <th>Age</th>\n",
              "      <th>Sex</th>\n",
              "      <th>Chest pain type</th>\n",
              "      <th>BP</th>\n",
              "      <th>Cholesterol</th>\n",
              "      <th>FBS over 120</th>\n",
              "      <th>EKG results</th>\n",
              "      <th>Max HR</th>\n",
              "      <th>Exercise angina</th>\n",
              "      <th>ST depression</th>\n",
              "      <th>Slope of ST</th>\n",
              "      <th>Number of vessels fluro</th>\n",
              "      <th>Thallium</th>\n",
              "    </tr>\n",
              "  </thead>\n",
              "  <tbody>\n",
              "    <tr>\n",
              "      <th>count</th>\n",
              "      <td>270.000000</td>\n",
              "      <td>270.000000</td>\n",
              "      <td>270.000000</td>\n",
              "      <td>270.000000</td>\n",
              "      <td>270.000000</td>\n",
              "      <td>270.000000</td>\n",
              "      <td>270.000000</td>\n",
              "      <td>270.000000</td>\n",
              "      <td>270.000000</td>\n",
              "      <td>270.000000</td>\n",
              "      <td>270.00000</td>\n",
              "      <td>270.000000</td>\n",
              "      <td>270.000000</td>\n",
              "      <td>270.000000</td>\n",
              "    </tr>\n",
              "    <tr>\n",
              "      <th>mean</th>\n",
              "      <td>134.500000</td>\n",
              "      <td>54.433333</td>\n",
              "      <td>0.677778</td>\n",
              "      <td>3.174074</td>\n",
              "      <td>131.344444</td>\n",
              "      <td>249.659259</td>\n",
              "      <td>0.148148</td>\n",
              "      <td>1.022222</td>\n",
              "      <td>149.677778</td>\n",
              "      <td>0.329630</td>\n",
              "      <td>1.05000</td>\n",
              "      <td>1.585185</td>\n",
              "      <td>0.670370</td>\n",
              "      <td>4.696296</td>\n",
              "    </tr>\n",
              "    <tr>\n",
              "      <th>std</th>\n",
              "      <td>78.086491</td>\n",
              "      <td>9.109067</td>\n",
              "      <td>0.468195</td>\n",
              "      <td>0.950090</td>\n",
              "      <td>17.861608</td>\n",
              "      <td>51.686237</td>\n",
              "      <td>0.355906</td>\n",
              "      <td>0.997891</td>\n",
              "      <td>23.165717</td>\n",
              "      <td>0.470952</td>\n",
              "      <td>1.14521</td>\n",
              "      <td>0.614390</td>\n",
              "      <td>0.943896</td>\n",
              "      <td>1.940659</td>\n",
              "    </tr>\n",
              "    <tr>\n",
              "      <th>min</th>\n",
              "      <td>0.000000</td>\n",
              "      <td>29.000000</td>\n",
              "      <td>0.000000</td>\n",
              "      <td>1.000000</td>\n",
              "      <td>94.000000</td>\n",
              "      <td>126.000000</td>\n",
              "      <td>0.000000</td>\n",
              "      <td>0.000000</td>\n",
              "      <td>71.000000</td>\n",
              "      <td>0.000000</td>\n",
              "      <td>0.00000</td>\n",
              "      <td>1.000000</td>\n",
              "      <td>0.000000</td>\n",
              "      <td>3.000000</td>\n",
              "    </tr>\n",
              "    <tr>\n",
              "      <th>25%</th>\n",
              "      <td>67.250000</td>\n",
              "      <td>48.000000</td>\n",
              "      <td>0.000000</td>\n",
              "      <td>3.000000</td>\n",
              "      <td>120.000000</td>\n",
              "      <td>213.000000</td>\n",
              "      <td>0.000000</td>\n",
              "      <td>0.000000</td>\n",
              "      <td>133.000000</td>\n",
              "      <td>0.000000</td>\n",
              "      <td>0.00000</td>\n",
              "      <td>1.000000</td>\n",
              "      <td>0.000000</td>\n",
              "      <td>3.000000</td>\n",
              "    </tr>\n",
              "    <tr>\n",
              "      <th>50%</th>\n",
              "      <td>134.500000</td>\n",
              "      <td>55.000000</td>\n",
              "      <td>1.000000</td>\n",
              "      <td>3.000000</td>\n",
              "      <td>130.000000</td>\n",
              "      <td>245.000000</td>\n",
              "      <td>0.000000</td>\n",
              "      <td>2.000000</td>\n",
              "      <td>153.500000</td>\n",
              "      <td>0.000000</td>\n",
              "      <td>0.80000</td>\n",
              "      <td>2.000000</td>\n",
              "      <td>0.000000</td>\n",
              "      <td>3.000000</td>\n",
              "    </tr>\n",
              "    <tr>\n",
              "      <th>75%</th>\n",
              "      <td>201.750000</td>\n",
              "      <td>61.000000</td>\n",
              "      <td>1.000000</td>\n",
              "      <td>4.000000</td>\n",
              "      <td>140.000000</td>\n",
              "      <td>280.000000</td>\n",
              "      <td>0.000000</td>\n",
              "      <td>2.000000</td>\n",
              "      <td>166.000000</td>\n",
              "      <td>1.000000</td>\n",
              "      <td>1.60000</td>\n",
              "      <td>2.000000</td>\n",
              "      <td>1.000000</td>\n",
              "      <td>7.000000</td>\n",
              "    </tr>\n",
              "    <tr>\n",
              "      <th>max</th>\n",
              "      <td>269.000000</td>\n",
              "      <td>77.000000</td>\n",
              "      <td>1.000000</td>\n",
              "      <td>4.000000</td>\n",
              "      <td>200.000000</td>\n",
              "      <td>564.000000</td>\n",
              "      <td>1.000000</td>\n",
              "      <td>2.000000</td>\n",
              "      <td>202.000000</td>\n",
              "      <td>1.000000</td>\n",
              "      <td>6.20000</td>\n",
              "      <td>3.000000</td>\n",
              "      <td>3.000000</td>\n",
              "      <td>7.000000</td>\n",
              "    </tr>\n",
              "  </tbody>\n",
              "</table>\n",
              "</div>\n",
              "      <button class=\"colab-df-convert\" onclick=\"convertToInteractive('df-96fb80f9-245f-4aff-a5f8-1800d29b29ea')\"\n",
              "              title=\"Convert this dataframe to an interactive table.\"\n",
              "              style=\"display:none;\">\n",
              "        \n",
              "  <svg xmlns=\"http://www.w3.org/2000/svg\" height=\"24px\"viewBox=\"0 0 24 24\"\n",
              "       width=\"24px\">\n",
              "    <path d=\"M0 0h24v24H0V0z\" fill=\"none\"/>\n",
              "    <path d=\"M18.56 5.44l.94 2.06.94-2.06 2.06-.94-2.06-.94-.94-2.06-.94 2.06-2.06.94zm-11 1L8.5 8.5l.94-2.06 2.06-.94-2.06-.94L8.5 2.5l-.94 2.06-2.06.94zm10 10l.94 2.06.94-2.06 2.06-.94-2.06-.94-.94-2.06-.94 2.06-2.06.94z\"/><path d=\"M17.41 7.96l-1.37-1.37c-.4-.4-.92-.59-1.43-.59-.52 0-1.04.2-1.43.59L10.3 9.45l-7.72 7.72c-.78.78-.78 2.05 0 2.83L4 21.41c.39.39.9.59 1.41.59.51 0 1.02-.2 1.41-.59l7.78-7.78 2.81-2.81c.8-.78.8-2.07 0-2.86zM5.41 20L4 18.59l7.72-7.72 1.47 1.35L5.41 20z\"/>\n",
              "  </svg>\n",
              "      </button>\n",
              "      \n",
              "  <style>\n",
              "    .colab-df-container {\n",
              "      display:flex;\n",
              "      flex-wrap:wrap;\n",
              "      gap: 12px;\n",
              "    }\n",
              "\n",
              "    .colab-df-convert {\n",
              "      background-color: #E8F0FE;\n",
              "      border: none;\n",
              "      border-radius: 50%;\n",
              "      cursor: pointer;\n",
              "      display: none;\n",
              "      fill: #1967D2;\n",
              "      height: 32px;\n",
              "      padding: 0 0 0 0;\n",
              "      width: 32px;\n",
              "    }\n",
              "\n",
              "    .colab-df-convert:hover {\n",
              "      background-color: #E2EBFA;\n",
              "      box-shadow: 0px 1px 2px rgba(60, 64, 67, 0.3), 0px 1px 3px 1px rgba(60, 64, 67, 0.15);\n",
              "      fill: #174EA6;\n",
              "    }\n",
              "\n",
              "    [theme=dark] .colab-df-convert {\n",
              "      background-color: #3B4455;\n",
              "      fill: #D2E3FC;\n",
              "    }\n",
              "\n",
              "    [theme=dark] .colab-df-convert:hover {\n",
              "      background-color: #434B5C;\n",
              "      box-shadow: 0px 1px 3px 1px rgba(0, 0, 0, 0.15);\n",
              "      filter: drop-shadow(0px 1px 2px rgba(0, 0, 0, 0.3));\n",
              "      fill: #FFFFFF;\n",
              "    }\n",
              "  </style>\n",
              "\n",
              "      <script>\n",
              "        const buttonEl =\n",
              "          document.querySelector('#df-96fb80f9-245f-4aff-a5f8-1800d29b29ea button.colab-df-convert');\n",
              "        buttonEl.style.display =\n",
              "          google.colab.kernel.accessAllowed ? 'block' : 'none';\n",
              "\n",
              "        async function convertToInteractive(key) {\n",
              "          const element = document.querySelector('#df-96fb80f9-245f-4aff-a5f8-1800d29b29ea');\n",
              "          const dataTable =\n",
              "            await google.colab.kernel.invokeFunction('convertToInteractive',\n",
              "                                                     [key], {});\n",
              "          if (!dataTable) return;\n",
              "\n",
              "          const docLinkHtml = 'Like what you see? Visit the ' +\n",
              "            '<a target=\"_blank\" href=https://colab.research.google.com/notebooks/data_table.ipynb>data table notebook</a>'\n",
              "            + ' to learn more about interactive tables.';\n",
              "          element.innerHTML = '';\n",
              "          dataTable['output_type'] = 'display_data';\n",
              "          await google.colab.output.renderOutput(dataTable, element);\n",
              "          const docLink = document.createElement('div');\n",
              "          docLink.innerHTML = docLinkHtml;\n",
              "          element.appendChild(docLink);\n",
              "        }\n",
              "      </script>\n",
              "    </div>\n",
              "  </div>\n",
              "  "
            ]
          },
          "metadata": {},
          "execution_count": 267
        }
      ],
      "source": [
        "# DESCIBE THE DATASET\n",
        "Agustin_df.describe() # DESKRIPSI DATA"
      ]
    },
    {
      "cell_type": "code",
      "execution_count": null,
      "metadata": {
        "id": "1X5afIJaRJMN",
        "colab": {
          "base_uri": "https://localhost:8080/",
          "height": 726
        },
        "outputId": "b32c79f2-8c8f-4084-f515-e49d09beaa18"
      },
      "outputs": [
        {
          "output_type": "execute_result",
          "data": {
            "text/plain": [
              "                            index       Age       Sex  Chest pain type  \\\n",
              "index                    1.000000 -0.041400  0.042656        -0.015909   \n",
              "Age                     -0.041400  1.000000 -0.094401         0.096920   \n",
              "Sex                      0.042656 -0.094401  1.000000         0.034636   \n",
              "Chest pain type         -0.015909  0.096920  0.034636         1.000000   \n",
              "BP                       0.042879  0.273053 -0.062693        -0.043196   \n",
              "Cholesterol              0.043509  0.220056 -0.201647         0.090465   \n",
              "FBS over 120            -0.014714  0.123458  0.042140        -0.098537   \n",
              "EKG results             -0.039836  0.128171  0.039253         0.074325   \n",
              "Max HR                   0.102682 -0.402215 -0.076101        -0.317682   \n",
              "Exercise angina         -0.064645  0.098297  0.180022         0.353160   \n",
              "ST depression            0.084465  0.194234  0.097412         0.167244   \n",
              "Slope of ST              0.023401  0.159774  0.050545         0.136900   \n",
              "Number of vessels fluro -0.006128  0.356081  0.086830         0.225890   \n",
              "Thallium                 0.010033  0.106100  0.391046         0.262659   \n",
              "\n",
              "                               BP  Cholesterol  FBS over 120  EKG results  \\\n",
              "index                    0.042879     0.043509     -0.014714    -0.039836   \n",
              "Age                      0.273053     0.220056      0.123458     0.128171   \n",
              "Sex                     -0.062693    -0.201647      0.042140     0.039253   \n",
              "Chest pain type         -0.043196     0.090465     -0.098537     0.074325   \n",
              "BP                       1.000000     0.173019      0.155681     0.116157   \n",
              "Cholesterol              0.173019     1.000000      0.025186     0.167652   \n",
              "FBS over 120             0.155681     0.025186      1.000000     0.053499   \n",
              "EKG results              0.116157     0.167652      0.053499     1.000000   \n",
              "Max HR                  -0.039136    -0.018739      0.022494    -0.074628   \n",
              "Exercise angina          0.082793     0.078243     -0.004107     0.095098   \n",
              "ST depression            0.222800     0.027709     -0.025538     0.120034   \n",
              "Slope of ST              0.142472    -0.005755      0.044076     0.160614   \n",
              "Number of vessels fluro  0.085697     0.126541      0.123774     0.114368   \n",
              "Thallium                 0.132045     0.028836      0.049237     0.007337   \n",
              "\n",
              "                           Max HR  Exercise angina  ST depression  \\\n",
              "index                    0.102682        -0.064645       0.084465   \n",
              "Age                     -0.402215         0.098297       0.194234   \n",
              "Sex                     -0.076101         0.180022       0.097412   \n",
              "Chest pain type         -0.317682         0.353160       0.167244   \n",
              "BP                      -0.039136         0.082793       0.222800   \n",
              "Cholesterol             -0.018739         0.078243       0.027709   \n",
              "FBS over 120             0.022494        -0.004107      -0.025538   \n",
              "EKG results             -0.074628         0.095098       0.120034   \n",
              "Max HR                   1.000000        -0.380719      -0.349045   \n",
              "Exercise angina         -0.380719         1.000000       0.274672   \n",
              "ST depression           -0.349045         0.274672       1.000000   \n",
              "Slope of ST             -0.386847         0.255908       0.609712   \n",
              "Number of vessels fluro -0.265333         0.153347       0.255005   \n",
              "Thallium                -0.253397         0.321449       0.324333   \n",
              "\n",
              "                         Slope of ST  Number of vessels fluro  Thallium  \n",
              "index                       0.023401                -0.006128  0.010033  \n",
              "Age                         0.159774                 0.356081  0.106100  \n",
              "Sex                         0.050545                 0.086830  0.391046  \n",
              "Chest pain type             0.136900                 0.225890  0.262659  \n",
              "BP                          0.142472                 0.085697  0.132045  \n",
              "Cholesterol                -0.005755                 0.126541  0.028836  \n",
              "FBS over 120                0.044076                 0.123774  0.049237  \n",
              "EKG results                 0.160614                 0.114368  0.007337  \n",
              "Max HR                     -0.386847                -0.265333 -0.253397  \n",
              "Exercise angina             0.255908                 0.153347  0.321449  \n",
              "ST depression               0.609712                 0.255005  0.324333  \n",
              "Slope of ST                 1.000000                 0.109498  0.283678  \n",
              "Number of vessels fluro     0.109498                 1.000000  0.255648  \n",
              "Thallium                    0.283678                 0.255648  1.000000  "
            ],
            "text/html": [
              "\n",
              "  <div id=\"df-069c623b-217c-4651-9396-2a1d81a8a5ce\">\n",
              "    <div class=\"colab-df-container\">\n",
              "      <div>\n",
              "<style scoped>\n",
              "    .dataframe tbody tr th:only-of-type {\n",
              "        vertical-align: middle;\n",
              "    }\n",
              "\n",
              "    .dataframe tbody tr th {\n",
              "        vertical-align: top;\n",
              "    }\n",
              "\n",
              "    .dataframe thead th {\n",
              "        text-align: right;\n",
              "    }\n",
              "</style>\n",
              "<table border=\"1\" class=\"dataframe\">\n",
              "  <thead>\n",
              "    <tr style=\"text-align: right;\">\n",
              "      <th></th>\n",
              "      <th>index</th>\n",
              "      <th>Age</th>\n",
              "      <th>Sex</th>\n",
              "      <th>Chest pain type</th>\n",
              "      <th>BP</th>\n",
              "      <th>Cholesterol</th>\n",
              "      <th>FBS over 120</th>\n",
              "      <th>EKG results</th>\n",
              "      <th>Max HR</th>\n",
              "      <th>Exercise angina</th>\n",
              "      <th>ST depression</th>\n",
              "      <th>Slope of ST</th>\n",
              "      <th>Number of vessels fluro</th>\n",
              "      <th>Thallium</th>\n",
              "    </tr>\n",
              "  </thead>\n",
              "  <tbody>\n",
              "    <tr>\n",
              "      <th>index</th>\n",
              "      <td>1.000000</td>\n",
              "      <td>-0.041400</td>\n",
              "      <td>0.042656</td>\n",
              "      <td>-0.015909</td>\n",
              "      <td>0.042879</td>\n",
              "      <td>0.043509</td>\n",
              "      <td>-0.014714</td>\n",
              "      <td>-0.039836</td>\n",
              "      <td>0.102682</td>\n",
              "      <td>-0.064645</td>\n",
              "      <td>0.084465</td>\n",
              "      <td>0.023401</td>\n",
              "      <td>-0.006128</td>\n",
              "      <td>0.010033</td>\n",
              "    </tr>\n",
              "    <tr>\n",
              "      <th>Age</th>\n",
              "      <td>-0.041400</td>\n",
              "      <td>1.000000</td>\n",
              "      <td>-0.094401</td>\n",
              "      <td>0.096920</td>\n",
              "      <td>0.273053</td>\n",
              "      <td>0.220056</td>\n",
              "      <td>0.123458</td>\n",
              "      <td>0.128171</td>\n",
              "      <td>-0.402215</td>\n",
              "      <td>0.098297</td>\n",
              "      <td>0.194234</td>\n",
              "      <td>0.159774</td>\n",
              "      <td>0.356081</td>\n",
              "      <td>0.106100</td>\n",
              "    </tr>\n",
              "    <tr>\n",
              "      <th>Sex</th>\n",
              "      <td>0.042656</td>\n",
              "      <td>-0.094401</td>\n",
              "      <td>1.000000</td>\n",
              "      <td>0.034636</td>\n",
              "      <td>-0.062693</td>\n",
              "      <td>-0.201647</td>\n",
              "      <td>0.042140</td>\n",
              "      <td>0.039253</td>\n",
              "      <td>-0.076101</td>\n",
              "      <td>0.180022</td>\n",
              "      <td>0.097412</td>\n",
              "      <td>0.050545</td>\n",
              "      <td>0.086830</td>\n",
              "      <td>0.391046</td>\n",
              "    </tr>\n",
              "    <tr>\n",
              "      <th>Chest pain type</th>\n",
              "      <td>-0.015909</td>\n",
              "      <td>0.096920</td>\n",
              "      <td>0.034636</td>\n",
              "      <td>1.000000</td>\n",
              "      <td>-0.043196</td>\n",
              "      <td>0.090465</td>\n",
              "      <td>-0.098537</td>\n",
              "      <td>0.074325</td>\n",
              "      <td>-0.317682</td>\n",
              "      <td>0.353160</td>\n",
              "      <td>0.167244</td>\n",
              "      <td>0.136900</td>\n",
              "      <td>0.225890</td>\n",
              "      <td>0.262659</td>\n",
              "    </tr>\n",
              "    <tr>\n",
              "      <th>BP</th>\n",
              "      <td>0.042879</td>\n",
              "      <td>0.273053</td>\n",
              "      <td>-0.062693</td>\n",
              "      <td>-0.043196</td>\n",
              "      <td>1.000000</td>\n",
              "      <td>0.173019</td>\n",
              "      <td>0.155681</td>\n",
              "      <td>0.116157</td>\n",
              "      <td>-0.039136</td>\n",
              "      <td>0.082793</td>\n",
              "      <td>0.222800</td>\n",
              "      <td>0.142472</td>\n",
              "      <td>0.085697</td>\n",
              "      <td>0.132045</td>\n",
              "    </tr>\n",
              "    <tr>\n",
              "      <th>Cholesterol</th>\n",
              "      <td>0.043509</td>\n",
              "      <td>0.220056</td>\n",
              "      <td>-0.201647</td>\n",
              "      <td>0.090465</td>\n",
              "      <td>0.173019</td>\n",
              "      <td>1.000000</td>\n",
              "      <td>0.025186</td>\n",
              "      <td>0.167652</td>\n",
              "      <td>-0.018739</td>\n",
              "      <td>0.078243</td>\n",
              "      <td>0.027709</td>\n",
              "      <td>-0.005755</td>\n",
              "      <td>0.126541</td>\n",
              "      <td>0.028836</td>\n",
              "    </tr>\n",
              "    <tr>\n",
              "      <th>FBS over 120</th>\n",
              "      <td>-0.014714</td>\n",
              "      <td>0.123458</td>\n",
              "      <td>0.042140</td>\n",
              "      <td>-0.098537</td>\n",
              "      <td>0.155681</td>\n",
              "      <td>0.025186</td>\n",
              "      <td>1.000000</td>\n",
              "      <td>0.053499</td>\n",
              "      <td>0.022494</td>\n",
              "      <td>-0.004107</td>\n",
              "      <td>-0.025538</td>\n",
              "      <td>0.044076</td>\n",
              "      <td>0.123774</td>\n",
              "      <td>0.049237</td>\n",
              "    </tr>\n",
              "    <tr>\n",
              "      <th>EKG results</th>\n",
              "      <td>-0.039836</td>\n",
              "      <td>0.128171</td>\n",
              "      <td>0.039253</td>\n",
              "      <td>0.074325</td>\n",
              "      <td>0.116157</td>\n",
              "      <td>0.167652</td>\n",
              "      <td>0.053499</td>\n",
              "      <td>1.000000</td>\n",
              "      <td>-0.074628</td>\n",
              "      <td>0.095098</td>\n",
              "      <td>0.120034</td>\n",
              "      <td>0.160614</td>\n",
              "      <td>0.114368</td>\n",
              "      <td>0.007337</td>\n",
              "    </tr>\n",
              "    <tr>\n",
              "      <th>Max HR</th>\n",
              "      <td>0.102682</td>\n",
              "      <td>-0.402215</td>\n",
              "      <td>-0.076101</td>\n",
              "      <td>-0.317682</td>\n",
              "      <td>-0.039136</td>\n",
              "      <td>-0.018739</td>\n",
              "      <td>0.022494</td>\n",
              "      <td>-0.074628</td>\n",
              "      <td>1.000000</td>\n",
              "      <td>-0.380719</td>\n",
              "      <td>-0.349045</td>\n",
              "      <td>-0.386847</td>\n",
              "      <td>-0.265333</td>\n",
              "      <td>-0.253397</td>\n",
              "    </tr>\n",
              "    <tr>\n",
              "      <th>Exercise angina</th>\n",
              "      <td>-0.064645</td>\n",
              "      <td>0.098297</td>\n",
              "      <td>0.180022</td>\n",
              "      <td>0.353160</td>\n",
              "      <td>0.082793</td>\n",
              "      <td>0.078243</td>\n",
              "      <td>-0.004107</td>\n",
              "      <td>0.095098</td>\n",
              "      <td>-0.380719</td>\n",
              "      <td>1.000000</td>\n",
              "      <td>0.274672</td>\n",
              "      <td>0.255908</td>\n",
              "      <td>0.153347</td>\n",
              "      <td>0.321449</td>\n",
              "    </tr>\n",
              "    <tr>\n",
              "      <th>ST depression</th>\n",
              "      <td>0.084465</td>\n",
              "      <td>0.194234</td>\n",
              "      <td>0.097412</td>\n",
              "      <td>0.167244</td>\n",
              "      <td>0.222800</td>\n",
              "      <td>0.027709</td>\n",
              "      <td>-0.025538</td>\n",
              "      <td>0.120034</td>\n",
              "      <td>-0.349045</td>\n",
              "      <td>0.274672</td>\n",
              "      <td>1.000000</td>\n",
              "      <td>0.609712</td>\n",
              "      <td>0.255005</td>\n",
              "      <td>0.324333</td>\n",
              "    </tr>\n",
              "    <tr>\n",
              "      <th>Slope of ST</th>\n",
              "      <td>0.023401</td>\n",
              "      <td>0.159774</td>\n",
              "      <td>0.050545</td>\n",
              "      <td>0.136900</td>\n",
              "      <td>0.142472</td>\n",
              "      <td>-0.005755</td>\n",
              "      <td>0.044076</td>\n",
              "      <td>0.160614</td>\n",
              "      <td>-0.386847</td>\n",
              "      <td>0.255908</td>\n",
              "      <td>0.609712</td>\n",
              "      <td>1.000000</td>\n",
              "      <td>0.109498</td>\n",
              "      <td>0.283678</td>\n",
              "    </tr>\n",
              "    <tr>\n",
              "      <th>Number of vessels fluro</th>\n",
              "      <td>-0.006128</td>\n",
              "      <td>0.356081</td>\n",
              "      <td>0.086830</td>\n",
              "      <td>0.225890</td>\n",
              "      <td>0.085697</td>\n",
              "      <td>0.126541</td>\n",
              "      <td>0.123774</td>\n",
              "      <td>0.114368</td>\n",
              "      <td>-0.265333</td>\n",
              "      <td>0.153347</td>\n",
              "      <td>0.255005</td>\n",
              "      <td>0.109498</td>\n",
              "      <td>1.000000</td>\n",
              "      <td>0.255648</td>\n",
              "    </tr>\n",
              "    <tr>\n",
              "      <th>Thallium</th>\n",
              "      <td>0.010033</td>\n",
              "      <td>0.106100</td>\n",
              "      <td>0.391046</td>\n",
              "      <td>0.262659</td>\n",
              "      <td>0.132045</td>\n",
              "      <td>0.028836</td>\n",
              "      <td>0.049237</td>\n",
              "      <td>0.007337</td>\n",
              "      <td>-0.253397</td>\n",
              "      <td>0.321449</td>\n",
              "      <td>0.324333</td>\n",
              "      <td>0.283678</td>\n",
              "      <td>0.255648</td>\n",
              "      <td>1.000000</td>\n",
              "    </tr>\n",
              "  </tbody>\n",
              "</table>\n",
              "</div>\n",
              "      <button class=\"colab-df-convert\" onclick=\"convertToInteractive('df-069c623b-217c-4651-9396-2a1d81a8a5ce')\"\n",
              "              title=\"Convert this dataframe to an interactive table.\"\n",
              "              style=\"display:none;\">\n",
              "        \n",
              "  <svg xmlns=\"http://www.w3.org/2000/svg\" height=\"24px\"viewBox=\"0 0 24 24\"\n",
              "       width=\"24px\">\n",
              "    <path d=\"M0 0h24v24H0V0z\" fill=\"none\"/>\n",
              "    <path d=\"M18.56 5.44l.94 2.06.94-2.06 2.06-.94-2.06-.94-.94-2.06-.94 2.06-2.06.94zm-11 1L8.5 8.5l.94-2.06 2.06-.94-2.06-.94L8.5 2.5l-.94 2.06-2.06.94zm10 10l.94 2.06.94-2.06 2.06-.94-2.06-.94-.94-2.06-.94 2.06-2.06.94z\"/><path d=\"M17.41 7.96l-1.37-1.37c-.4-.4-.92-.59-1.43-.59-.52 0-1.04.2-1.43.59L10.3 9.45l-7.72 7.72c-.78.78-.78 2.05 0 2.83L4 21.41c.39.39.9.59 1.41.59.51 0 1.02-.2 1.41-.59l7.78-7.78 2.81-2.81c.8-.78.8-2.07 0-2.86zM5.41 20L4 18.59l7.72-7.72 1.47 1.35L5.41 20z\"/>\n",
              "  </svg>\n",
              "      </button>\n",
              "      \n",
              "  <style>\n",
              "    .colab-df-container {\n",
              "      display:flex;\n",
              "      flex-wrap:wrap;\n",
              "      gap: 12px;\n",
              "    }\n",
              "\n",
              "    .colab-df-convert {\n",
              "      background-color: #E8F0FE;\n",
              "      border: none;\n",
              "      border-radius: 50%;\n",
              "      cursor: pointer;\n",
              "      display: none;\n",
              "      fill: #1967D2;\n",
              "      height: 32px;\n",
              "      padding: 0 0 0 0;\n",
              "      width: 32px;\n",
              "    }\n",
              "\n",
              "    .colab-df-convert:hover {\n",
              "      background-color: #E2EBFA;\n",
              "      box-shadow: 0px 1px 2px rgba(60, 64, 67, 0.3), 0px 1px 3px 1px rgba(60, 64, 67, 0.15);\n",
              "      fill: #174EA6;\n",
              "    }\n",
              "\n",
              "    [theme=dark] .colab-df-convert {\n",
              "      background-color: #3B4455;\n",
              "      fill: #D2E3FC;\n",
              "    }\n",
              "\n",
              "    [theme=dark] .colab-df-convert:hover {\n",
              "      background-color: #434B5C;\n",
              "      box-shadow: 0px 1px 3px 1px rgba(0, 0, 0, 0.15);\n",
              "      filter: drop-shadow(0px 1px 2px rgba(0, 0, 0, 0.3));\n",
              "      fill: #FFFFFF;\n",
              "    }\n",
              "  </style>\n",
              "\n",
              "      <script>\n",
              "        const buttonEl =\n",
              "          document.querySelector('#df-069c623b-217c-4651-9396-2a1d81a8a5ce button.colab-df-convert');\n",
              "        buttonEl.style.display =\n",
              "          google.colab.kernel.accessAllowed ? 'block' : 'none';\n",
              "\n",
              "        async function convertToInteractive(key) {\n",
              "          const element = document.querySelector('#df-069c623b-217c-4651-9396-2a1d81a8a5ce');\n",
              "          const dataTable =\n",
              "            await google.colab.kernel.invokeFunction('convertToInteractive',\n",
              "                                                     [key], {});\n",
              "          if (!dataTable) return;\n",
              "\n",
              "          const docLinkHtml = 'Like what you see? Visit the ' +\n",
              "            '<a target=\"_blank\" href=https://colab.research.google.com/notebooks/data_table.ipynb>data table notebook</a>'\n",
              "            + ' to learn more about interactive tables.';\n",
              "          element.innerHTML = '';\n",
              "          dataTable['output_type'] = 'display_data';\n",
              "          await google.colab.output.renderOutput(dataTable, element);\n",
              "          const docLink = document.createElement('div');\n",
              "          docLink.innerHTML = docLinkHtml;\n",
              "          element.appendChild(docLink);\n",
              "        }\n",
              "      </script>\n",
              "    </div>\n",
              "  </div>\n",
              "  "
            ]
          },
          "metadata": {},
          "execution_count": 268
        }
      ],
      "source": [
        "# CORRELATION MATRIX\n",
        "Agustin_df.corr()  #KORELASI ANTARA KOLOM"
      ]
    },
    {
      "cell_type": "code",
      "execution_count": null,
      "metadata": {
        "id": "XtvmFm8QRN5P"
      },
      "outputs": [],
      "source": [
        "# DATASET = DATA VISUALISATION \n",
        "import matplotlib.pyplot as plt  #\n",
        "import seaborn as sns\n",
        "\n",
        "# OUTPUT DARI VISUALISASI DATA AKAN DISERAHKAN KE NOTEBOOK\n",
        "%matplotlib inline"
      ]
    },
    {
      "cell_type": "code",
      "execution_count": null,
      "metadata": {
        "id": "QFHx91nCRigH"
      },
      "outputs": [],
      "source": [
        "# clasification models\n",
        "# import modules\n",
        "from sklearn.model_selection import train_test_split \n",
        "from sklearn.metrics import accuracy_score,confusion_matrix, classification_report\n"
      ]
    },
    {
      "cell_type": "code",
      "execution_count": null,
      "metadata": {
        "id": "3JgvdnQfSLnD",
        "colab": {
          "base_uri": "https://localhost:8080/",
          "height": 285
        },
        "outputId": "5c8b199c-83d2-443a-f8dc-7f34c7a319bb"
      },
      "outputs": [
        {
          "output_type": "execute_result",
          "data": {
            "text/plain": [
              "   index  Age  Sex  Chest pain type   BP  Cholesterol  FBS over 120  \\\n",
              "0      0   70    1                4  130          322             0   \n",
              "1      1   67    0                3  115          564             0   \n",
              "2      2   57    1                2  124          261             0   \n",
              "3      3   64    1                4  128          263             0   \n",
              "4      4   74    0                2  120          269             0   \n",
              "\n",
              "   EKG results  Max HR  Exercise angina  ST depression  Slope of ST  \\\n",
              "0            2     109                0            2.4            2   \n",
              "1            2     160                0            1.6            2   \n",
              "2            0     141                0            0.3            1   \n",
              "3            0     105                1            0.2            2   \n",
              "4            2     121                1            0.2            1   \n",
              "\n",
              "   Number of vessels fluro  \n",
              "0                        3  \n",
              "1                        0  \n",
              "2                        0  \n",
              "3                        1  \n",
              "4                        1  "
            ],
            "text/html": [
              "\n",
              "  <div id=\"df-3b42f31c-3c6e-494b-acec-ae93edab9cfa\">\n",
              "    <div class=\"colab-df-container\">\n",
              "      <div>\n",
              "<style scoped>\n",
              "    .dataframe tbody tr th:only-of-type {\n",
              "        vertical-align: middle;\n",
              "    }\n",
              "\n",
              "    .dataframe tbody tr th {\n",
              "        vertical-align: top;\n",
              "    }\n",
              "\n",
              "    .dataframe thead th {\n",
              "        text-align: right;\n",
              "    }\n",
              "</style>\n",
              "<table border=\"1\" class=\"dataframe\">\n",
              "  <thead>\n",
              "    <tr style=\"text-align: right;\">\n",
              "      <th></th>\n",
              "      <th>index</th>\n",
              "      <th>Age</th>\n",
              "      <th>Sex</th>\n",
              "      <th>Chest pain type</th>\n",
              "      <th>BP</th>\n",
              "      <th>Cholesterol</th>\n",
              "      <th>FBS over 120</th>\n",
              "      <th>EKG results</th>\n",
              "      <th>Max HR</th>\n",
              "      <th>Exercise angina</th>\n",
              "      <th>ST depression</th>\n",
              "      <th>Slope of ST</th>\n",
              "      <th>Number of vessels fluro</th>\n",
              "    </tr>\n",
              "  </thead>\n",
              "  <tbody>\n",
              "    <tr>\n",
              "      <th>0</th>\n",
              "      <td>0</td>\n",
              "      <td>70</td>\n",
              "      <td>1</td>\n",
              "      <td>4</td>\n",
              "      <td>130</td>\n",
              "      <td>322</td>\n",
              "      <td>0</td>\n",
              "      <td>2</td>\n",
              "      <td>109</td>\n",
              "      <td>0</td>\n",
              "      <td>2.4</td>\n",
              "      <td>2</td>\n",
              "      <td>3</td>\n",
              "    </tr>\n",
              "    <tr>\n",
              "      <th>1</th>\n",
              "      <td>1</td>\n",
              "      <td>67</td>\n",
              "      <td>0</td>\n",
              "      <td>3</td>\n",
              "      <td>115</td>\n",
              "      <td>564</td>\n",
              "      <td>0</td>\n",
              "      <td>2</td>\n",
              "      <td>160</td>\n",
              "      <td>0</td>\n",
              "      <td>1.6</td>\n",
              "      <td>2</td>\n",
              "      <td>0</td>\n",
              "    </tr>\n",
              "    <tr>\n",
              "      <th>2</th>\n",
              "      <td>2</td>\n",
              "      <td>57</td>\n",
              "      <td>1</td>\n",
              "      <td>2</td>\n",
              "      <td>124</td>\n",
              "      <td>261</td>\n",
              "      <td>0</td>\n",
              "      <td>0</td>\n",
              "      <td>141</td>\n",
              "      <td>0</td>\n",
              "      <td>0.3</td>\n",
              "      <td>1</td>\n",
              "      <td>0</td>\n",
              "    </tr>\n",
              "    <tr>\n",
              "      <th>3</th>\n",
              "      <td>3</td>\n",
              "      <td>64</td>\n",
              "      <td>1</td>\n",
              "      <td>4</td>\n",
              "      <td>128</td>\n",
              "      <td>263</td>\n",
              "      <td>0</td>\n",
              "      <td>0</td>\n",
              "      <td>105</td>\n",
              "      <td>1</td>\n",
              "      <td>0.2</td>\n",
              "      <td>2</td>\n",
              "      <td>1</td>\n",
              "    </tr>\n",
              "    <tr>\n",
              "      <th>4</th>\n",
              "      <td>4</td>\n",
              "      <td>74</td>\n",
              "      <td>0</td>\n",
              "      <td>2</td>\n",
              "      <td>120</td>\n",
              "      <td>269</td>\n",
              "      <td>0</td>\n",
              "      <td>2</td>\n",
              "      <td>121</td>\n",
              "      <td>1</td>\n",
              "      <td>0.2</td>\n",
              "      <td>1</td>\n",
              "      <td>1</td>\n",
              "    </tr>\n",
              "  </tbody>\n",
              "</table>\n",
              "</div>\n",
              "      <button class=\"colab-df-convert\" onclick=\"convertToInteractive('df-3b42f31c-3c6e-494b-acec-ae93edab9cfa')\"\n",
              "              title=\"Convert this dataframe to an interactive table.\"\n",
              "              style=\"display:none;\">\n",
              "        \n",
              "  <svg xmlns=\"http://www.w3.org/2000/svg\" height=\"24px\"viewBox=\"0 0 24 24\"\n",
              "       width=\"24px\">\n",
              "    <path d=\"M0 0h24v24H0V0z\" fill=\"none\"/>\n",
              "    <path d=\"M18.56 5.44l.94 2.06.94-2.06 2.06-.94-2.06-.94-.94-2.06-.94 2.06-2.06.94zm-11 1L8.5 8.5l.94-2.06 2.06-.94-2.06-.94L8.5 2.5l-.94 2.06-2.06.94zm10 10l.94 2.06.94-2.06 2.06-.94-2.06-.94-.94-2.06-.94 2.06-2.06.94z\"/><path d=\"M17.41 7.96l-1.37-1.37c-.4-.4-.92-.59-1.43-.59-.52 0-1.04.2-1.43.59L10.3 9.45l-7.72 7.72c-.78.78-.78 2.05 0 2.83L4 21.41c.39.39.9.59 1.41.59.51 0 1.02-.2 1.41-.59l7.78-7.78 2.81-2.81c.8-.78.8-2.07 0-2.86zM5.41 20L4 18.59l7.72-7.72 1.47 1.35L5.41 20z\"/>\n",
              "  </svg>\n",
              "      </button>\n",
              "      \n",
              "  <style>\n",
              "    .colab-df-container {\n",
              "      display:flex;\n",
              "      flex-wrap:wrap;\n",
              "      gap: 12px;\n",
              "    }\n",
              "\n",
              "    .colab-df-convert {\n",
              "      background-color: #E8F0FE;\n",
              "      border: none;\n",
              "      border-radius: 50%;\n",
              "      cursor: pointer;\n",
              "      display: none;\n",
              "      fill: #1967D2;\n",
              "      height: 32px;\n",
              "      padding: 0 0 0 0;\n",
              "      width: 32px;\n",
              "    }\n",
              "\n",
              "    .colab-df-convert:hover {\n",
              "      background-color: #E2EBFA;\n",
              "      box-shadow: 0px 1px 2px rgba(60, 64, 67, 0.3), 0px 1px 3px 1px rgba(60, 64, 67, 0.15);\n",
              "      fill: #174EA6;\n",
              "    }\n",
              "\n",
              "    [theme=dark] .colab-df-convert {\n",
              "      background-color: #3B4455;\n",
              "      fill: #D2E3FC;\n",
              "    }\n",
              "\n",
              "    [theme=dark] .colab-df-convert:hover {\n",
              "      background-color: #434B5C;\n",
              "      box-shadow: 0px 1px 3px 1px rgba(0, 0, 0, 0.15);\n",
              "      filter: drop-shadow(0px 1px 2px rgba(0, 0, 0, 0.3));\n",
              "      fill: #FFFFFF;\n",
              "    }\n",
              "  </style>\n",
              "\n",
              "      <script>\n",
              "        const buttonEl =\n",
              "          document.querySelector('#df-3b42f31c-3c6e-494b-acec-ae93edab9cfa button.colab-df-convert');\n",
              "        buttonEl.style.display =\n",
              "          google.colab.kernel.accessAllowed ? 'block' : 'none';\n",
              "\n",
              "        async function convertToInteractive(key) {\n",
              "          const element = document.querySelector('#df-3b42f31c-3c6e-494b-acec-ae93edab9cfa');\n",
              "          const dataTable =\n",
              "            await google.colab.kernel.invokeFunction('convertToInteractive',\n",
              "                                                     [key], {});\n",
              "          if (!dataTable) return;\n",
              "\n",
              "          const docLinkHtml = 'Like what you see? Visit the ' +\n",
              "            '<a target=\"_blank\" href=https://colab.research.google.com/notebooks/data_table.ipynb>data table notebook</a>'\n",
              "            + ' to learn more about interactive tables.';\n",
              "          element.innerHTML = '';\n",
              "          dataTable['output_type'] = 'display_data';\n",
              "          await google.colab.output.renderOutput(dataTable, element);\n",
              "          const docLink = document.createElement('div');\n",
              "          docLink.innerHTML = docLinkHtml;\n",
              "          element.appendChild(docLink);\n",
              "        }\n",
              "      </script>\n",
              "    </div>\n",
              "  </div>\n",
              "  "
            ]
          },
          "metadata": {},
          "execution_count": 271
        }
      ],
      "source": [
        "# features & class lebel\n",
        "x = Agustin_df.drop(columns='Thallium') # menempatkan features ke dalam variable z\n",
        "x.head() # tampilkan 5 baris pertama"
      ]
    },
    {
      "cell_type": "code",
      "execution_count": null,
      "metadata": {
        "id": "6uB5pUQPSfq7",
        "colab": {
          "base_uri": "https://localhost:8080/"
        },
        "outputId": "826b2633-fa47-4c3d-b55b-0bce42904cb6"
      },
      "outputs": [
        {
          "output_type": "execute_result",
          "data": {
            "text/plain": [
              "0    3\n",
              "1    7\n",
              "2    7\n",
              "3    7\n",
              "4    3\n",
              "Name: Thallium, dtype: int64"
            ]
          },
          "metadata": {},
          "execution_count": 272
        }
      ],
      "source": [
        "\n",
        "y = Agustin_df['Thallium'] # menempatkan class label (target) ke dalam variable y\n",
        "y.head() # tampilkan 5 baris pertama"
      ]
    },
    {
      "cell_type": "code",
      "execution_count": null,
      "metadata": {
        "id": "QdnHYqL-SznK",
        "colab": {
          "base_uri": "https://localhost:8080/"
        },
        "outputId": "3360c04a-3deb-45a3-d5a6-aaa9dd4baed1"
      },
      "outputs": [
        {
          "output_type": "stream",
          "name": "stdout",
          "text": [
            " training dataset\n",
            "(162, 13)\n",
            "(162,)\n",
            "\n",
            " testing dataset : \n",
            "(108, 13)\n",
            "(108,)\n"
          ]
        }
      ],
      "source": [
        "# split the dataset into a training set and a testing set\n",
        "# membagi dataset ke dalam trainning dan testing set\n",
        "x_train, x_test, y_train, y_test = train_test_split(x, y, test_size=0.4 , random_state=10)\n",
        "\n",
        "print( ' training dataset')\n",
        "print(x_train.shape)\n",
        "print(y_train.shape)\n",
        "print()\n",
        "print(' testing dataset : ')\n",
        "print(x_test.shape)\n",
        "print(y_test.shape)"
      ]
    },
    {
      "cell_type": "code",
      "source": [
        "# K-NEAREST NEIGHBORS (KNN)\n",
        "from sklearn.neighbors import KNeighborsClassifier"
      ],
      "metadata": {
        "id": "KcwNgjy4k3P-"
      },
      "execution_count": null,
      "outputs": []
    },
    {
      "cell_type": "code",
      "source": [
        "\n",
        "k_range = list(range(1,26))\n",
        "scores = [ ]\n",
        "for k in k_range:\n",
        "  model_knn = KNeighborsClassifier(n_neighbors=k)\n",
        "  model_knn.fit(x_train, y_train)\n",
        "  y_pred = model_knn.predict(x_test)\n",
        "  scores.append(accuracy_score(y_test, y_pred))"
      ],
      "metadata": {
        "id": "5snY4UnCPvHb"
      },
      "execution_count": null,
      "outputs": []
    },
    {
      "cell_type": "code",
      "source": [
        "plt.plot(k_range, scores)\n",
        "plt.xlabel('Value of k for knn')\n",
        "plt.ylabel('accuracy_score')\n",
        "plt.title('Accuracy Scores for Values of k of k-Nearest-Neighbors')\n",
        "plt.tight_layout()\n",
        "plt.show()"
      ],
      "metadata": {
        "id": "6vFKIJyWQgsF",
        "colab": {
          "base_uri": "https://localhost:8080/",
          "height": 297
        },
        "outputId": "0f981730-2b4c-4e86-f234-446ca34bc85f"
      },
      "execution_count": null,
      "outputs": [
        {
          "output_type": "display_data",
          "data": {
            "text/plain": [
              "<Figure size 432x288 with 1 Axes>"
            ],
            "image/png": "[encoded data removed]"
          },
          "metadata": {
            "needs_background": "light"
          }
        }
      ]
    },
    {
      "cell_type": "code",
      "source": [
        "model_knn = KNeighborsClassifier(n_neighbors=3)\n",
        "model_knn.fit(x_train,y_train)\n",
        "y_pred = model_knn.predict(x_test)"
      ],
      "metadata": {
        "id": "PT4ERYHaRdB7"
      },
      "execution_count": null,
      "outputs": []
    },
    {
      "cell_type": "code",
      "source": [
        "# ACCURACY SCORE\n",
        "print(accuracy_score(y_test, y_pred)) # EVALUASI EURASI"
      ],
      "metadata": {
        "id": "GACgKnWNR1CW",
        "colab": {
          "base_uri": "https://localhost:8080/"
        },
        "outputId": "ede71c20-019d-4d12-f075-24bb15c6f64c"
      },
      "execution_count": null,
      "outputs": [
        {
          "output_type": "stream",
          "name": "stdout",
          "text": [
            "0.5740740740740741\n"
          ]
        }
      ]
    },
    {
      "cell_type": "code",
      "source": [
        "# CONFUSION MATRIX\n",
        "print(confusion_matrix(y_test, y_pred))"
      ],
      "metadata": {
        "id": "oWfhY1yiSDMs",
        "colab": {
          "base_uri": "https://localhost:8080/"
        },
        "outputId": "d6ba196c-1f73-436b-82bf-96593ee7e7ce"
      },
      "execution_count": null,
      "outputs": [
        {
          "output_type": "stream",
          "name": "stdout",
          "text": [
            "[[46  1  8]\n",
            " [ 4  0  0]\n",
            " [32  1 16]]\n"
          ]
        }
      ]
    },
    {
      "cell_type": "code",
      "source": [
        "# CLASSIFICATION REPORT\n",
        "print(classification_report(y_test, y_pred))"
      ],
      "metadata": {
        "id": "fxw3kOAYSN5u",
        "colab": {
          "base_uri": "https://localhost:8080/"
        },
        "outputId": "5771737d-b060-4b54-90f0-786ce0496060"
      },
      "execution_count": null,
      "outputs": [
        {
          "output_type": "stream",
          "name": "stdout",
          "text": [
            "              precision    recall  f1-score   support\n",
            "\n",
            "           3       0.56      0.84      0.67        55\n",
            "           6       0.00      0.00      0.00         4\n",
            "           7       0.67      0.33      0.44        49\n",
            "\n",
            "    accuracy                           0.57       108\n",
            "   macro avg       0.41      0.39      0.37       108\n",
            "weighted avg       0.59      0.57      0.54       108\n",
            "\n"
          ]
        }
      ]
    },
    {
      "cell_type": "code",
      "source": [
        "# LOGISTIC REGRESSION ALGORTM\n",
        "from sklearn.linear_model import LogisticRegression"
      ],
      "metadata": {
        "id": "yPkY_HMLSZ8N"
      },
      "execution_count": null,
      "outputs": []
    },
    {
      "cell_type": "code",
      "source": [
        "# LOGISTICREGRESSION \n",
        "model_logreg =  LogisticRegression(solver='lbfgs', multi_class='auto')\n",
        "model_logreg.fit(x_train, y_train)\n",
        "y_pred = model_logreg.predict(x_test)\n"
      ],
      "metadata": {
        "id": "9cwpct3xSwWq",
        "colab": {
          "base_uri": "https://localhost:8080/"
        },
        "outputId": "b3f21277-c91a-4c41-95c1-e865aca2bf1a"
      },
      "execution_count": null,
      "outputs": [
        {
          "output_type": "stream",
          "name": "stderr",
          "text": [
            "/usr/local/lib/python3.8/dist-packages/sklearn/linear_model/_logistic.py:458: ConvergenceWarning: lbfgs failed to converge (status=1):\n",
            "STOP: TOTAL NO. of ITERATIONS REACHED LIMIT.\n",
            "\n",
            "Increase the number of iterations (max_iter) or scale the data as shown in:\n",
            "    https://scikit-learn.org/stable/modules/preprocessing.html\n",
            "Please also refer to the documentation for alternative solver options:\n",
            "    https://scikit-learn.org/stable/modules/linear_model.html#logistic-regression\n",
            "  n_iter_i = _check_optimize_result(\n"
          ]
        }
      ]
    },
    {
      "cell_type": "code",
      "source": [
        "# ACCURACY SCORE\n",
        "print(accuracy_score(y_test, y_pred))"
      ],
      "metadata": {
        "id": "xWSVmV86TZM3",
        "colab": {
          "base_uri": "https://localhost:8080/"
        },
        "outputId": "0c2aa81f-7d44-4d5e-a062-b05c871010b7"
      },
      "execution_count": null,
      "outputs": [
        {
          "output_type": "stream",
          "name": "stdout",
          "text": [
            "0.6481481481481481\n"
          ]
        }
      ]
    },
    {
      "cell_type": "code",
      "source": [
        "# CONFUSION MATRIX\n",
        "print(confusion_matrix(y_test, y_pred))"
      ],
      "metadata": {
        "id": "80_MQITrcJ92",
        "colab": {
          "base_uri": "https://localhost:8080/"
        },
        "outputId": "81439065-5fdf-47ba-cd68-037bd0d4dc75"
      },
      "execution_count": null,
      "outputs": [
        {
          "output_type": "stream",
          "name": "stdout",
          "text": [
            "[[45  0 10]\n",
            " [ 4  0  0]\n",
            " [24  0 25]]\n"
          ]
        }
      ]
    },
    {
      "cell_type": "code",
      "source": [
        "# CLASSIFICATION REPOORT\n",
        "print(classification_report(y_test, y_pred))"
      ],
      "metadata": {
        "id": "rLM_UZ1AcVgH",
        "colab": {
          "base_uri": "https://localhost:8080/"
        },
        "outputId": "c8b11cdd-ac12-4278-d234-53da1b087e9d"
      },
      "execution_count": null,
      "outputs": [
        {
          "output_type": "stream",
          "name": "stdout",
          "text": [
            "              precision    recall  f1-score   support\n",
            "\n",
            "           3       0.62      0.82      0.70        55\n",
            "           6       0.00      0.00      0.00         4\n",
            "           7       0.71      0.51      0.60        49\n",
            "\n",
            "    accuracy                           0.65       108\n",
            "   macro avg       0.44      0.44      0.43       108\n",
            "weighted avg       0.64      0.65      0.63       108\n",
            "\n"
          ]
        },
        {
          "output_type": "stream",
          "name": "stderr",
          "text": [
            "/usr/local/lib/python3.8/dist-packages/sklearn/metrics/_classification.py:1344: UndefinedMetricWarning: Precision and F-score are ill-defined and being set to 0.0 in labels with no predicted samples. Use `zero_division` parameter to control this behavior.\n",
            "  _warn_prf(average, modifier, msg_start, len(result))\n",
            "/usr/local/lib/python3.8/dist-packages/sklearn/metrics/_classification.py:1344: UndefinedMetricWarning: Precision and F-score are ill-defined and being set to 0.0 in labels with no predicted samples. Use `zero_division` parameter to control this behavior.\n",
            "  _warn_prf(average, modifier, msg_start, len(result))\n",
            "/usr/local/lib/python3.8/dist-packages/sklearn/metrics/_classification.py:1344: UndefinedMetricWarning: Precision and F-score are ill-defined and being set to 0.0 in labels with no predicted samples. Use `zero_division` parameter to control this behavior.\n",
            "  _warn_prf(average, modifier, msg_start, len(result))\n"
          ]
        }
      ]
    },
    {
      "cell_type": "code",
      "source": [
        "# support vectore classifier \n",
        "from sklearn.svm import SVC"
      ],
      "metadata": {
        "id": "3qHacQmqcfup"
      },
      "execution_count": null,
      "outputs": []
    },
    {
      "cell_type": "code",
      "source": [
        "# MODEL_SVC=SVC()\n",
        "model_svc  =  SVC(gamma='scale')\n",
        "model_svc.fit (x_train,  y_train)\n",
        "y_pred  =  model_svc.predict(x_test)"
      ],
      "metadata": {
        "id": "rKNwsiS9cw5H"
      },
      "execution_count": null,
      "outputs": []
    },
    {
      "cell_type": "code",
      "source": [
        "# decision tree classifier\n",
        "from sklearn.tree import DecisionTreeClassifier"
      ],
      "metadata": {
        "id": "yZPcLqr_c4Fa"
      },
      "execution_count": null,
      "outputs": []
    },
    {
      "cell_type": "code",
      "source": [
        "model_dt = DecisionTreeClassifier()\n",
        "model_dt.fit(x_train,y_train)\n",
        "y_pred = model_dt.predict(x_test)"
      ],
      "metadata": {
        "id": "iNU_ZOUWo7H9"
      },
      "execution_count": null,
      "outputs": []
    },
    {
      "cell_type": "code",
      "source": [
        "#random tree classifier\n",
        "from sklearn.ensemble import RandomForestClassifier"
      ],
      "metadata": {
        "id": "AOk5i_5mpX2q"
      },
      "execution_count": null,
      "outputs": []
    },
    {
      "cell_type": "code",
      "source": [
        "# model_rf = RandomForestClassifier()\n",
        "model_rf = RandomForestClassifier(n_estimators = 100)\n",
        "model_rf.fit(x_train,y_train)\n",
        "pred_rf = model_rf.predict(x_test)"
      ],
      "metadata": {
        "id": "fytOcdkJpkzI"
      },
      "execution_count": null,
      "outputs": []
    },
    {
      "cell_type": "code",
      "source": [
        "#accuracy comparasion for various model\n",
        "models = [model_knn, model_logreg, model_svc, model_dt, model_rf]\n",
        "accuracy_scores = [ ]\n",
        "for model in  models:\n",
        "  y_pred = model.predict(x_test)\n",
        "  accuracy = accuracy_score(y_test, y_pred)\n",
        "  accuracy_scores.append(accuracy)\n",
        "\n",
        "  print(accuracy_score)"
      ],
      "metadata": {
        "id": "B8YVJ48Jp6Lo",
        "colab": {
          "base_uri": "https://localhost:8080/"
        },
        "outputId": "c17ace4b-9c08-4253-a6d5-d11971bac9f6"
      },
      "execution_count": null,
      "outputs": [
        {
          "output_type": "stream",
          "name": "stdout",
          "text": [
            "<function accuracy_score at 0x7fed0dce2310>\n",
            "<function accuracy_score at 0x7fed0dce2310>\n",
            "<function accuracy_score at 0x7fed0dce2310>\n",
            "<function accuracy_score at 0x7fed0dce2310>\n",
            "<function accuracy_score at 0x7fed0dce2310>\n"
          ]
        }
      ]
    },
    {
      "cell_type": "code",
      "source": [
        "# accuracy comparison for various model with matplotib\n",
        "plt.bar(['KNN', 'LogReg', 'SVC', 'DT', 'RF'], accuracy_scores)\n",
        "plt.ylim(0.90,1.01)\n",
        "plt.title('Accuracy comparision for various models', fontsize=15, color='r')\n",
        "plt.xlabel('Model', fontsize=18, color='g')\n",
        "plt.ylabel('Accuracy Score', fontsize=18, color='g')\n",
        "plt.tight_layout()\n",
        "plt.show()"
      ],
      "metadata": {
        "id": "jM7VaAvysyN4",
        "colab": {
          "base_uri": "https://localhost:8080/",
          "height": 297
        },
        "outputId": "ba038443-8799-4d4f-a423-2ea21d41a4ae"
      },
      "execution_count": null,
      "outputs": [
        {
          "output_type": "display_data",
          "data": {
            "text/plain": [
              "<Figure size 432x288 with 1 Axes>"
            ],
            "image/png": "[encoded data removed]"
          },
          "metadata": {
            "needs_background": "light"
          }
        }
      ]
    }
  ],
  "metadata": {
    "colab": {
      "provenance": [],
      "authorship_tag": "ABX9TyNW5zpA8Uo+sSusvRciiwYO",
      "include_colab_link": true
    },
    "kernelspec": {
      "display_name": "Python 3",
      "name": "python3"
    },
    "language_info": {
      "name": "python"
    }
  },
  "nbformat": 4,
  "nbformat_minor": 0
}